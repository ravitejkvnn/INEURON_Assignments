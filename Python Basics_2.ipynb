{
 "cells": [
  {
   "cell_type": "markdown",
   "metadata": {},
   "source": [
    "#### 1. What are the two values of the Boolean data type?\n",
    "\n",
    "Ans. \n",
    "\n",
    "#### The two values of Boolean Data Types are \"True\" and \"False\""
   ]
  },
  {
   "cell_type": "code",
   "execution_count": null,
   "metadata": {},
   "outputs": [],
   "source": []
  },
  {
   "cell_type": "markdown",
   "metadata": {},
   "source": [
    "#### 2. What are the three different types of Boolean operators?\n",
    "\n",
    "Ans.\n",
    "\n",
    "#### The three different types of Boolean operators are \"AND\", \"OR\", \"NOT\""
   ]
  },
  {
   "cell_type": "code",
   "execution_count": null,
   "metadata": {},
   "outputs": [],
   "source": []
  },
  {
   "cell_type": "markdown",
   "metadata": {},
   "source": [
    "#### 3. Make a list of each Boolean operator's truth tables (i.e. every possible combination of Boolean values for the operator and what it evaluate.\n",
    "\n",
    "Ans.\n",
    "\n",
    "#### The Truth Tables for various Boolean's operators are given below:"
   ]
  },
  {
   "cell_type": "code",
   "execution_count": 1,
   "metadata": {},
   "outputs": [
    {
     "name": "stdout",
     "output_type": "stream",
     "text": [
      "False & False = False\n",
      "False & True = False\n",
      "True & False = False\n",
      "True & True = True\n"
     ]
    }
   ],
   "source": [
    "# AND Truth Table\n",
    "\n",
    "for i in range(2):\n",
    "    for j in range(2):\n",
    "        print(i == 1 ,'&',j == 1,'=',i&j == 1)"
   ]
  },
  {
   "cell_type": "code",
   "execution_count": 2,
   "metadata": {},
   "outputs": [
    {
     "name": "stdout",
     "output_type": "stream",
     "text": [
      "False | False = False\n",
      "False | True = True\n",
      "True | False = True\n",
      "True | True = True\n"
     ]
    }
   ],
   "source": [
    "# OR Truth Table\n",
    "\n",
    "for i in range(2):\n",
    "    for j in range(2):\n",
    "        print(i == 1, '|', j == 1, '=', i|j == 1)"
   ]
  },
  {
   "cell_type": "code",
   "execution_count": 6,
   "metadata": {},
   "outputs": [
    {
     "name": "stdout",
     "output_type": "stream",
     "text": [
      "Not False = True\n",
      "Not True = False\n"
     ]
    }
   ],
   "source": [
    "# Not Truth Table\n",
    "\n",
    "for i in range(2):\n",
    "        print('Not', i == 1, '=', i == 0)"
   ]
  },
  {
   "cell_type": "code",
   "execution_count": null,
   "metadata": {},
   "outputs": [],
   "source": []
  },
  {
   "cell_type": "markdown",
   "metadata": {},
   "source": [
    "#### 4. What are the values of the following expressions?\n",
    "a) (5 > 4) and (3 == 5)\n",
    "b) not (5 > 4)\n",
    "c) (5 > 4) or (3 == 5)\n",
    "d) not ((5 > 4) or (3 == 5))\n",
    "e) (True and True) and (True == False)\n",
    "f) (not False) or (not True)\n",
    "\n",
    "Ans.\n",
    "\n",
    "#### a) False\n",
    "#### b) False\n",
    "#### c) True\n",
    "#### d) False\n",
    "#### e) False\n",
    "#### f) True"
   ]
  },
  {
   "cell_type": "code",
   "execution_count": null,
   "metadata": {},
   "outputs": [],
   "source": []
  },
  {
   "cell_type": "markdown",
   "metadata": {},
   "source": [
    "#### 5. What are the six comparison operators?\n",
    "\n",
    "Ans.\n",
    "\n",
    "#### The six comparision operators are: \n",
    "a) Greater than '>'\n",
    "\n",
    "b) Less than '<'\n",
    "\n",
    "c) Equal to '=='\n",
    "\n",
    "d) Not equal to '!='\n",
    "\n",
    "e) Greater than or equal to '>='\n",
    "\n",
    "f) Less than or equal to '<='"
   ]
  },
  {
   "cell_type": "code",
   "execution_count": null,
   "metadata": {},
   "outputs": [],
   "source": []
  },
  {
   "cell_type": "markdown",
   "metadata": {},
   "source": [
    "#### 6. How do you tell the difference between the equal to and assignment operators?Describe a condition and when you would use one.\n",
    "\n",
    "Ans.\n",
    "\n",
    "#### The equal operator is represented by '==' where as assignment operator is represented by '='. We use equal operator to compare two values where as the assignment operator for assigning values to a varaible."
   ]
  },
  {
   "cell_type": "code",
   "execution_count": null,
   "metadata": {},
   "outputs": [],
   "source": []
  },
  {
   "cell_type": "markdown",
   "metadata": {},
   "source": [
    "#### 7. Identify the three blocks in this code:\n",
    "spam = 0\n",
    "\n",
    "if spam == 10:\n",
    "\n",
    "print('eggs')\n",
    "\n",
    "if spam > 5:\n",
    "\n",
    "print('bacon')\n",
    "\n",
    "else:\n",
    "\n",
    "print('ham')\n",
    "\n",
    "print('spam')\n",
    "\n",
    "print('spam')\n",
    "\n",
    "Ans.\n",
    "\n",
    "#### The three blocks in this code are:\n",
    "\n",
    "a) if spam == 10: This is if condition, the initial condition that is checked. If this is not satisfied, elif block is executed\n",
    "\n",
    "       print('eggs')\n",
    "   \n",
    "b) elif spam > 5: This is elif condition which is cheked after the if condition i.e., in case if condition fails then this code is executed\n",
    "\n",
    "       print('bacon')\n",
    "   \n",
    "c) else: This is else condition and is executed in case all the above blocks are not satisfied\n",
    "\n",
    "       print('ham')\n",
    "\n",
    "       print('spam')\n",
    "\n",
    "       print('spam')"
   ]
  },
  {
   "cell_type": "code",
   "execution_count": null,
   "metadata": {},
   "outputs": [],
   "source": []
  },
  {
   "cell_type": "markdown",
   "metadata": {},
   "source": [
    "#### 8. Write code that prints Hello if 1 is stored in spam, prints Howdy if 2 is stored in spam, and prints Greetings! if anything else is stored in spam.\n",
    "\n",
    "Ans. \n",
    "\n",
    "#### The code is as follows:"
   ]
  },
  {
   "cell_type": "code",
   "execution_count": 8,
   "metadata": {},
   "outputs": [
    {
     "name": "stdout",
     "output_type": "stream",
     "text": [
      "5\n",
      "Greetings!\n"
     ]
    }
   ],
   "source": [
    "spam = int(input())\n",
    "if spam == 1:\n",
    "    print('Hello')\n",
    "if spam == 2:\n",
    "    print('Howdy')\n",
    "else:\n",
    "    print('Greetings!')"
   ]
  },
  {
   "cell_type": "code",
   "execution_count": null,
   "metadata": {},
   "outputs": [],
   "source": []
  },
  {
   "cell_type": "markdown",
   "metadata": {},
   "source": [
    "#### 9. If your programme is stuck in an endless loop, what keys you’ll press?\n",
    "\n",
    "Ans.\n",
    "\n",
    "#### We can use break method to come out of the loop when the loop is stuck in an endless loop"
   ]
  },
  {
   "cell_type": "code",
   "execution_count": null,
   "metadata": {},
   "outputs": [],
   "source": []
  },
  {
   "cell_type": "markdown",
   "metadata": {},
   "source": [
    "#### 10. How can you tell the difference between break and continue?\n",
    "\n",
    "Ans.\n",
    "\n",
    "#### Break statement is used to terminate the loop containing it when the condition is satisfied. The continue statement is used to skip a particular iteration when the condition is satisfied and execute rest of the itertaions. The examples are given below:"
   ]
  },
  {
   "cell_type": "code",
   "execution_count": 14,
   "metadata": {},
   "outputs": [
    {
     "name": "stdout",
     "output_type": "stream",
     "text": [
      "s\n",
      "t\n",
      "r\n"
     ]
    }
   ],
   "source": [
    "# break statement\n",
    "\n",
    "for a in \"string\":\n",
    "    if a == \"i\":\n",
    "        break\n",
    "    print(a)"
   ]
  },
  {
   "cell_type": "code",
   "execution_count": 15,
   "metadata": {},
   "outputs": [
    {
     "name": "stdout",
     "output_type": "stream",
     "text": [
      "s\n",
      "t\n",
      "r\n",
      "n\n",
      "g\n"
     ]
    }
   ],
   "source": [
    "# continue statement\n",
    "\n",
    "for a in \"string\":\n",
    "    if a == \"i\":\n",
    "        continue\n",
    "    print(a)"
   ]
  },
  {
   "cell_type": "code",
   "execution_count": null,
   "metadata": {},
   "outputs": [],
   "source": []
  },
  {
   "cell_type": "markdown",
   "metadata": {},
   "source": [
    "#### 11. In a for loop, what is the difference between range(10), range(0, 10), and range(0, 10, 1)?\n",
    "\n",
    "Ans.\n",
    "\n",
    "#### range(10) means the loop takes the starting value as 0 by default and iterates the loop till 9.\n",
    "#### range(0, 10) means the loop takes the starting value as 0 since it has been mentioned by us and iterates the loop till 9.\n",
    "#### range(0, 10, 1) means the loop takes the starting value as 0 since it has been mentioned by us and iterates the loop till 9 with a step difference of 1."
   ]
  },
  {
   "cell_type": "code",
   "execution_count": null,
   "metadata": {},
   "outputs": [],
   "source": []
  },
  {
   "cell_type": "markdown",
   "metadata": {},
   "source": [
    "#### 12. Write a short program that prints the numbers 1 to 10 using a for loop. Then write an equivalent program that prints the numbers 1 to 10 using a while loop.\n",
    "\n",
    "Ans.\n",
    "\n",
    "#### The code is as follows:"
   ]
  },
  {
   "cell_type": "code",
   "execution_count": 16,
   "metadata": {},
   "outputs": [
    {
     "name": "stdout",
     "output_type": "stream",
     "text": [
      "1\n",
      "2\n",
      "3\n",
      "4\n",
      "5\n",
      "6\n",
      "7\n",
      "8\n",
      "9\n",
      "10\n"
     ]
    }
   ],
   "source": [
    "# for loop\n",
    "\n",
    "for i in range(1, 11):\n",
    "    print(i)"
   ]
  },
  {
   "cell_type": "code",
   "execution_count": 24,
   "metadata": {},
   "outputs": [
    {
     "name": "stdout",
     "output_type": "stream",
     "text": [
      "1\n",
      "2\n",
      "3\n",
      "4\n",
      "5\n",
      "6\n",
      "7\n",
      "8\n",
      "9\n",
      "10\n"
     ]
    }
   ],
   "source": [
    "# while loop\n",
    "\n",
    "i = 1\n",
    "while i<11:\n",
    "    print(i)\n",
    "    i += 1"
   ]
  },
  {
   "cell_type": "code",
   "execution_count": 23,
   "metadata": {},
   "outputs": [],
   "source": []
  },
  {
   "cell_type": "markdown",
   "metadata": {},
   "source": [
    "#### If you had a function named bacon() inside a module named spam, how would you call it after importing spam?\n",
    "\n",
    "Ans.\n",
    "\n",
    "#### We import spam and then we use the following command to call the function bacon( ):\n",
    "import spam\n",
    "\n",
    "spam.bacon()"
   ]
  }
 ],
 "metadata": {
  "kernelspec": {
   "display_name": "Python 3",
   "language": "python",
   "name": "python3"
  },
  "language_info": {
   "codemirror_mode": {
    "name": "ipython",
    "version": 3
   },
   "file_extension": ".py",
   "mimetype": "text/x-python",
   "name": "python",
   "nbconvert_exporter": "python",
   "pygments_lexer": "ipython3",
   "version": "3.7.6"
  }
 },
 "nbformat": 4,
 "nbformat_minor": 4
}
