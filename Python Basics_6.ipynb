{
 "cells": [
  {
   "cell_type": "markdown",
   "metadata": {},
   "source": [
    "#### 1. What are escape characters, and how do you use them?\n",
    "\n",
    "Ans.\n",
    "\n",
    "#### Escape characters represent characters that are illegal in string. Some examples are: \\n, \\t, \\', \\\""
   ]
  },
  {
   "cell_type": "code",
   "execution_count": null,
   "metadata": {},
   "outputs": [],
   "source": []
  },
  {
   "cell_type": "markdown",
   "metadata": {},
   "source": [
    "#### 2. What do the escape characters n and t stand for?\n",
    "\n",
    "Ans.\n",
    "\n",
    "#### \\n - New Line\n",
    "#### \\t - Tab"
   ]
  },
  {
   "cell_type": "code",
   "execution_count": null,
   "metadata": {},
   "outputs": [],
   "source": []
  },
  {
   "cell_type": "markdown",
   "metadata": {},
   "source": [
    "#### 3. What is the way to include backslash characters in a string?\n",
    "\n",
    "Ans.\n",
    "\n",
    "#### To get a backslash, the code is given below:"
   ]
  },
  {
   "cell_type": "code",
   "execution_count": 9,
   "metadata": {},
   "outputs": [
    {
     "name": "stdout",
     "output_type": "stream",
     "text": [
      "This is an example to get \\\n"
     ]
    }
   ],
   "source": [
    "print(\"This is an example to get \\\\\")"
   ]
  },
  {
   "cell_type": "code",
   "execution_count": null,
   "metadata": {},
   "outputs": [],
   "source": []
  },
  {
   "cell_type": "markdown",
   "metadata": {},
   "source": [
    "#### 4. The string \"Howl's Moving Castle\" is a correct value. Why isn't the single quote character in the word Howl's not escaped a problem?\n",
    "\n",
    "Ans.\n",
    "\n",
    "#### Since the string is present in double quotes, it doesn't have a problem. There would have been an error if the string was present in a single quote"
   ]
  },
  {
   "cell_type": "code",
   "execution_count": null,
   "metadata": {},
   "outputs": [],
   "source": []
  },
  {
   "cell_type": "markdown",
   "metadata": {},
   "source": [
    "#### 5. How do you write a string of newlines if you don't want to use the n character?\n",
    "\n",
    "Ans.\n",
    "\n",
    "#### We can use \"\"\" \"\"\"(Multi line strings) without using \\n to get multiple lines"
   ]
  },
  {
   "cell_type": "code",
   "execution_count": null,
   "metadata": {},
   "outputs": [],
   "source": []
  },
  {
   "cell_type": "markdown",
   "metadata": {},
   "source": [
    "#### 6. What are the values of the given expressions?\n",
    "\n",
    "'Hello, world!'[1]\n",
    "\n",
    "'Hello, world!'[0:5]\n",
    "\n",
    "'Hello, world!'[:5]\n",
    "\n",
    "'Hello, world!'[3:]\n",
    "\n",
    "Ans.\n",
    "\n",
    "'Hello, world!'[1] - 'e'\n",
    "\n",
    "'Hello, world!'[0:5] - 'Hello'\n",
    "\n",
    "'Hello, world!'[:5] - 'Hello'\n",
    "\n",
    "'Hello, world!'[3:] - 'lo, world!'"
   ]
  },
  {
   "cell_type": "code",
   "execution_count": null,
   "metadata": {},
   "outputs": [],
   "source": []
  },
  {
   "cell_type": "markdown",
   "metadata": {},
   "source": [
    "#### 7. What are the values of the following expressions?\n",
    "\n",
    "'Hello'.upper()\n",
    "\n",
    "'Hello'.upper().isupper()\n",
    "\n",
    "'Hello'.upper().lower()\n",
    "\n",
    "Ans.\n",
    "\n",
    "'Hello'.upper() - 'HELLO'\n",
    "\n",
    "'Hello'.upper().isupper() - True\n",
    "\n",
    "'Hello'.upper().lower() - 'hello'"
   ]
  },
  {
   "cell_type": "code",
   "execution_count": null,
   "metadata": {},
   "outputs": [],
   "source": []
  },
  {
   "cell_type": "markdown",
   "metadata": {},
   "source": [
    "#### 8. What are the values of the following expressions?\n",
    "\n",
    "'Remember, remember, the fifth of July.'.split()\n",
    "\n",
    "'-'.join('There can only one.'.split())\n",
    "\n",
    "Ans.\n",
    "\n",
    "'Remember, remember, the fifth of July.'.split() - ['Remember,', 'remember,', 'the', 'fifth', 'of', 'July.']\n",
    "\n",
    "'-'.join('There can only one.'.split()) - 'There-can-only-one.'\n"
   ]
  },
  {
   "cell_type": "code",
   "execution_count": null,
   "metadata": {},
   "outputs": [],
   "source": []
  },
  {
   "cell_type": "markdown",
   "metadata": {},
   "source": [
    "#### 9. What are the methods for right-justifying, left-justifying, and centering a string?\n",
    "\n",
    "Ans.\n",
    "\n",
    "#### The methods for right-justifying a string is rjust( ), left-justifying a string is ljust( ), centring a string is centre( ). The code is given below:"
   ]
  },
  {
   "cell_type": "code",
   "execution_count": 20,
   "metadata": {},
   "outputs": [
    {
     "name": "stdout",
     "output_type": "stream",
     "text": [
      "    Banana\n",
      "Banana    \n",
      "  Banana  \n"
     ]
    }
   ],
   "source": [
    "txt = 'Banana'\n",
    "width = 10\n",
    "print(txt.rjust(width))\n",
    "\n",
    "txt = 'Banana'\n",
    "width = 10\n",
    "print(txt.ljust(width))\n",
    "\n",
    "txt = 'Banana'\n",
    "width = 10\n",
    "print(txt.center(10))\n"
   ]
  },
  {
   "cell_type": "code",
   "execution_count": null,
   "metadata": {},
   "outputs": [],
   "source": []
  },
  {
   "cell_type": "markdown",
   "metadata": {},
   "source": [
    "#### 10. What is the best way to remove whitespace characters from the start or end?\n",
    "\n",
    "Ans.\n",
    "\n",
    "#### lstrip( ) is used to remove spaces at the beginning of the string and rstrip( ) is used to remove the spaces at the end of  the string. The code is given below:"
   ]
  },
  {
   "cell_type": "code",
   "execution_count": 21,
   "metadata": {},
   "outputs": [
    {
     "name": "stdout",
     "output_type": "stream",
     "text": [
      "Banana\n",
      "Banana\n"
     ]
    }
   ],
   "source": [
    "txt1 = \"         Banana\"\n",
    "print(txt1.lstrip())\n",
    "\n",
    "txt2 = \"Banana         \"\n",
    "print(txt2.rstrip())"
   ]
  }
 ],
 "metadata": {
  "kernelspec": {
   "display_name": "Python 3",
   "language": "python",
   "name": "python3"
  },
  "language_info": {
   "codemirror_mode": {
    "name": "ipython",
    "version": 3
   },
   "file_extension": ".py",
   "mimetype": "text/x-python",
   "name": "python",
   "nbconvert_exporter": "python",
   "pygments_lexer": "ipython3",
   "version": "3.7.6"
  }
 },
 "nbformat": 4,
 "nbformat_minor": 4
}
