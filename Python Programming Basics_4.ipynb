{
 "cells": [
  {
   "cell_type": "markdown",
   "metadata": {},
   "source": [
    "#### 1. Write a Python Program to Find the Factorial of a Number?"
   ]
  },
  {
   "cell_type": "code",
   "execution_count": 7,
   "metadata": {},
   "outputs": [
    {
     "name": "stdout",
     "output_type": "stream",
     "text": [
      "6\n",
      "The factorial of 6 is 720\n"
     ]
    }
   ],
   "source": [
    "a = int(input())\n",
    "fact = 1\n",
    "i = 1\n",
    "if a == 0:\n",
    "    fact = 1\n",
    "elif a >= 1:\n",
    "    while i <= a:\n",
    "        fact = fact*i\n",
    "        i += 1\n",
    "else: \n",
    "    print(\"Give a right input\")  \n",
    "    \n",
    "print(\"The factorial of\",a,\"is\",fact)"
   ]
  },
  {
   "cell_type": "markdown",
   "metadata": {},
   "source": [
    "#### 2. Write a Python Program to Display the multiplication Table?"
   ]
  },
  {
   "cell_type": "code",
   "execution_count": 10,
   "metadata": {},
   "outputs": [
    {
     "name": "stdout",
     "output_type": "stream",
     "text": [
      "5\n",
      "5 * 1 = 5\n",
      "5 * 2 = 10\n",
      "5 * 3 = 15\n",
      "5 * 4 = 20\n",
      "5 * 5 = 25\n",
      "5 * 6 = 30\n",
      "5 * 7 = 35\n",
      "5 * 8 = 40\n",
      "5 * 9 = 45\n",
      "5 * 10 = 50\n",
      "5 * 11 = 55\n",
      "5 * 12 = 60\n",
      "5 * 13 = 65\n",
      "5 * 14 = 70\n",
      "5 * 15 = 75\n",
      "5 * 16 = 80\n",
      "5 * 17 = 85\n",
      "5 * 18 = 90\n",
      "5 * 19 = 95\n",
      "5 * 20 = 100\n"
     ]
    }
   ],
   "source": [
    "a = int(input())\n",
    "i = 1\n",
    "while i <= 20:\n",
    "    print(a,\"*\",i,\"=\",(a*i))\n",
    "    i += 1    "
   ]
  },
  {
   "cell_type": "markdown",
   "metadata": {},
   "source": [
    "#### Write a Python Program to Print the Fibonacci sequence?"
   ]
  },
  {
   "cell_type": "code",
   "execution_count": 69,
   "metadata": {},
   "outputs": [
    {
     "name": "stdout",
     "output_type": "stream",
     "text": [
      "Enter the number of terms in the sequence - 10\n",
      "THe Fibonacci Sequence of 10 terms is 0 1 1 2 3 5 8 13 21 34 "
     ]
    }
   ],
   "source": [
    "n = int(input(\"Enter the number of terms in the sequence - \"))\n",
    "a = 0\n",
    "b = 1\n",
    "count = 1\n",
    "sum1 = 0\n",
    "print(\"THe Fibonacci Sequence of\",n,\"terms is\",end = \" \")\n",
    "while count <= n:\n",
    "    print(sum1,end = \" \")\n",
    "    count += 1\n",
    "    a = b\n",
    "    b = sum1\n",
    "    sum1 = a + b"
   ]
  },
  {
   "cell_type": "markdown",
   "metadata": {},
   "source": [
    "#### 4. Write a Python Program to Check Armstrong Number?"
   ]
  },
  {
   "cell_type": "code",
   "execution_count": 54,
   "metadata": {},
   "outputs": [
    {
     "name": "stdout",
     "output_type": "stream",
     "text": [
      "372\n",
      "378\n",
      "The number 372 is not an Armstrong Number\n"
     ]
    }
   ],
   "source": [
    "a = int(input())\n",
    "sum1 = 0\n",
    "a1 = a\n",
    "while  a1 >= 1:\n",
    "    rem = a1%10\n",
    "    sum1 = sum1 + (rem)**3\n",
    "    a1 = int(a1/10)\n",
    "    \n",
    "print(sum1)\n",
    "if a == sum1:\n",
    "    print(\"The number\",a,\"is an Armstrong Number\")\n",
    "else:\n",
    "    print(\"The number\",a,\"is not an Armstrong Number\")"
   ]
  },
  {
   "cell_type": "markdown",
   "metadata": {},
   "source": [
    "#### 5. Write a Python Program to Find Armstrong Number in an Interval?"
   ]
  },
  {
   "cell_type": "code",
   "execution_count": 60,
   "metadata": {},
   "outputs": [
    {
     "name": "stdout",
     "output_type": "stream",
     "text": [
      "Enter the starting number100\n",
      "Enter the ending number500\n",
      "The list of Armstrong Numbes in the range ( 100 , 500 ) is [153, 370, 371, 407]\n"
     ]
    }
   ],
   "source": [
    "start = int(input(\"Enter the starting number\"))\n",
    "end = int(input(\"Enter the ending number\"))\n",
    "armstrong_num = []\n",
    "for i in range(start, end+1):\n",
    "    a1 = i\n",
    "    sum1 = 0\n",
    "    while  a1 >= 1:\n",
    "        rem = a1%10\n",
    "        sum1 = sum1 + (rem)**3\n",
    "        a1 = int(a1/10)\n",
    "\n",
    "    if i == sum1:\n",
    "        armstrong_num.append(i)\n",
    "        \n",
    "print(\"The list of Armstrong Numbes in the range (\",start,\",\",end,\") is\",armstrong_num)"
   ]
  },
  {
   "cell_type": "markdown",
   "metadata": {},
   "source": [
    "#### 6. Write a Python Program to Find the Sum of Natural Numbers?"
   ]
  },
  {
   "cell_type": "code",
   "execution_count": 63,
   "metadata": {},
   "outputs": [
    {
     "name": "stdout",
     "output_type": "stream",
     "text": [
      "Enter the number of elements in series - 7\n",
      "The sum of first 7 natural numbers is 28\n"
     ]
    }
   ],
   "source": [
    "n = int(input(\"Enter the number of elements in series - \"))\n",
    "i = 1\n",
    "sum1 = 0\n",
    "\n",
    "if n <= 0:\n",
    "    print(\"Give the right input\")\n",
    "else:\n",
    "    while i <= n:\n",
    "        sum1 = sum1+i\n",
    "        i += 1\n",
    "        \n",
    "print(\"The sum of first\",n,\"natural numbers is\",sum1)"
   ]
  }
 ],
 "metadata": {
  "kernelspec": {
   "display_name": "Python 3",
   "language": "python",
   "name": "python3"
  },
  "language_info": {
   "codemirror_mode": {
    "name": "ipython",
    "version": 3
   },
   "file_extension": ".py",
   "mimetype": "text/x-python",
   "name": "python",
   "nbconvert_exporter": "python",
   "pygments_lexer": "ipython3",
   "version": "3.7.6"
  }
 },
 "nbformat": 4,
 "nbformat_minor": 4
}
