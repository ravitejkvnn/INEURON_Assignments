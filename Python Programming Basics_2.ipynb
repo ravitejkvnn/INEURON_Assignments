{
 "cells": [
  {
   "cell_type": "markdown",
   "metadata": {},
   "source": [
    "#### 1. Write a Python program to convert kilometers to miles?"
   ]
  },
  {
   "cell_type": "code",
   "execution_count": 2,
   "metadata": {},
   "outputs": [
    {
     "name": "stdout",
     "output_type": "stream",
     "text": [
      "5\n",
      "5 kms = 8.045 miles\n"
     ]
    }
   ],
   "source": [
    "kms = int(input())\n",
    "miles = kms * 1.609\n",
    "print(kms,\"kms =\",miles,\"miles\")"
   ]
  },
  {
   "cell_type": "markdown",
   "metadata": {},
   "source": [
    "#### 2. Write a Python program to convert Celsius to Fahrenheit?"
   ]
  },
  {
   "cell_type": "code",
   "execution_count": 3,
   "metadata": {},
   "outputs": [
    {
     "name": "stdout",
     "output_type": "stream",
     "text": [
      "0\n",
      "0 celsius = 32.0 farenheit\n"
     ]
    }
   ],
   "source": [
    "celsius = int(input())\n",
    "farenheit = (celsius * 1.8) + 32\n",
    "print(celsius,\"celsius =\",farenheit,\"farenheit\")"
   ]
  },
  {
   "cell_type": "markdown",
   "metadata": {},
   "source": [
    "#### 3. Write a Python program to display calendar?"
   ]
  },
  {
   "cell_type": "code",
   "execution_count": 4,
   "metadata": {},
   "outputs": [
    {
     "name": "stdout",
     "output_type": "stream",
     "text": [
      "      May 2021\n",
      "Mo Tu We Th Fr Sa Su\n",
      "                1  2\n",
      " 3  4  5  6  7  8  9\n",
      "10 11 12 13 14 15 16\n",
      "17 18 19 20 21 22 23\n",
      "24 25 26 27 28 29 30\n",
      "31\n",
      "\n"
     ]
    }
   ],
   "source": [
    "import calendar\n",
    "\n",
    "year = 2021  \n",
    "month = 5  \n",
    "\n",
    "print(calendar.month(year, month))"
   ]
  },
  {
   "cell_type": "markdown",
   "metadata": {},
   "source": [
    "#### 4. Write a Python program to solve quadratic equation?"
   ]
  },
  {
   "cell_type": "code",
   "execution_count": 11,
   "metadata": {},
   "outputs": [
    {
     "name": "stdout",
     "output_type": "stream",
     "text": [
      "Equation - ax^2 + bx +c\n",
      "a = 1\n",
      "b = 6\n",
      "c = 9\n",
      "The roots are real and equal\n",
      "The roots are -3.0 -3.0\n"
     ]
    }
   ],
   "source": [
    "from math import sqrt\n",
    "print(\"Equation - ax^2 + bx +c\")\n",
    "a = int(input(\"a = \"))\n",
    "b = int(input(\"b = \"))\n",
    "c = int(input(\"c = \"))\n",
    "d = (b*b) - (4*a*c)\n",
    "\n",
    "if d == 0:\n",
    "    print(\"The roots are real and equal\")\n",
    "    x1 = -b/(2*a)\n",
    "    x2 = -b/(2*a)\n",
    "    print(\"The roots are\",x1, x2)\n",
    "    \n",
    "elif d > 0:\n",
    "    print(\"The roots are real and distinct\")\n",
    "    x1 = (-b-sqrt(d))/2*a\n",
    "    x2 = (-b+sqrt(d))/2*a\n",
    "    print(\"The roots are\",x1, x2)\n",
    "\n",
    "else:\n",
    "    print(\"The roots are real and imaginary\")"
   ]
  },
  {
   "cell_type": "markdown",
   "metadata": {},
   "source": [
    "#### 5. Write a Python program to swap two variables without temp variable?"
   ]
  },
  {
   "cell_type": "code",
   "execution_count": 12,
   "metadata": {},
   "outputs": [
    {
     "name": "stdout",
     "output_type": "stream",
     "text": [
      "a = 6\n",
      "b = 7\n",
      "a = 7\n",
      "b = 6\n"
     ]
    }
   ],
   "source": [
    "a = int(input(\"a = \"))\n",
    "b = int(input(\"b = \"))\n",
    "a, b = b, a\n",
    "print(\"a =\",a)\n",
    "print(\"b =\",b)"
   ]
  }
 ],
 "metadata": {
  "kernelspec": {
   "display_name": "Python 3",
   "language": "python",
   "name": "python3"
  },
  "language_info": {
   "codemirror_mode": {
    "name": "ipython",
    "version": 3
   },
   "file_extension": ".py",
   "mimetype": "text/x-python",
   "name": "python",
   "nbconvert_exporter": "python",
   "pygments_lexer": "ipython3",
   "version": "3.7.6"
  }
 },
 "nbformat": 4,
 "nbformat_minor": 4
}
