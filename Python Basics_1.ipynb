{
 "cells": [
  {
   "cell_type": "markdown",
   "metadata": {},
   "source": [
    "#### 1. In the below elements which of them are values or an expression? eg:- values can be integer or string and expressions will be mathematical operators.\n",
    "a) * \n",
    "b) 'hello'\n",
    "c) -87.8\n",
    "d) - \n",
    "e) / \n",
    "f) +\n",
    "g) 6 \n",
    "\n",
    "\n",
    "Ans.\n",
    "\n",
    "#### a)  *          - Expression\n",
    "#### b)  'hello' - Value\n",
    "#### c)  -87.8   - Value\n",
    "#### d)  -          - Expression\n",
    "#### e)  /          - Expression\n",
    "#### f)  +          - Expression\n",
    "#### g) 6          - Value"
   ]
  },
  {
   "cell_type": "code",
   "execution_count": null,
   "metadata": {},
   "outputs": [],
   "source": []
  },
  {
   "cell_type": "markdown",
   "metadata": {},
   "source": [
    "#### 2. What is the difference between string and variable?\n",
    "\n",
    "Ans.\n",
    "\n",
    "#### String is a sequence of characters and is an immutable data type and can be represented with single quote or double quotes. A string is a type of variable.\n",
    "#### A variable is the name of a location in the computer's memory. It is used to store various data types like strings, intergers, lists etc., The value that a variable references can vary."
   ]
  },
  {
   "cell_type": "code",
   "execution_count": null,
   "metadata": {},
   "outputs": [],
   "source": []
  },
  {
   "cell_type": "markdown",
   "metadata": {},
   "source": [
    "#### 3. Describe three different data types.\n",
    "\n",
    "Ans.\n",
    "\n",
    "#### a) Integer - Integer is any number(positive or negative) without any decimal points and represented by 'int' in python\n",
    "#### b) String - String is a sequence of characters and represented by a single or double quotes in python\n",
    "#### c) List - Lists are ordered sequence of items and mutable data types. Generally represented by [ ] in python"
   ]
  },
  {
   "cell_type": "code",
   "execution_count": null,
   "metadata": {},
   "outputs": [],
   "source": []
  },
  {
   "cell_type": "markdown",
   "metadata": {},
   "source": [
    "#### 4. What is an expression made up of? What do all expressions do?\n",
    "\n",
    "Ans.\n",
    "\n",
    "#### Expressions are representations of various combinations of values, variables and operators when evaluated give us a specific value as an output."
   ]
  },
  {
   "cell_type": "code",
   "execution_count": null,
   "metadata": {},
   "outputs": [],
   "source": []
  },
  {
   "cell_type": "markdown",
   "metadata": {},
   "source": [
    "#### 5. This assignment statements, like spam = 10. What is the difference between an expression and a statement?\n",
    "\n",
    "Ans.\n",
    "\n",
    "#### A statement is an instruction for the python interpreter to execute. Statements represents a command where as expression is a combination of various values, variables and operators which give us some result."
   ]
  },
  {
   "cell_type": "code",
   "execution_count": null,
   "metadata": {},
   "outputs": [],
   "source": []
  },
  {
   "cell_type": "markdown",
   "metadata": {},
   "source": [
    "#### 6. After running the following code, what does the variable bacon contain?\n",
    "a) bacon = 22\n",
    "   \n",
    "   bacon + 1\n",
    "\n",
    "Ans.\n",
    "\n",
    "#### 23"
   ]
  },
  {
   "cell_type": "markdown",
   "metadata": {},
   "source": []
  },
  {
   "cell_type": "markdown",
   "metadata": {},
   "source": [
    "#### 7. What should the values of the following two terms be?\n",
    "a) 'spam' + 'spamspam'\n",
    "b) 'spam' * 3\n",
    "\n",
    "Ans.\n",
    "\n",
    "#### spamspamspam\n",
    "#### spamspamspam"
   ]
  },
  {
   "cell_type": "code",
   "execution_count": null,
   "metadata": {},
   "outputs": [],
   "source": []
  },
  {
   "cell_type": "markdown",
   "metadata": {},
   "source": [
    "#### 8. Why is eggs a valid variable name while 100 is invalid?\n",
    "\n",
    "Ans. \n",
    "\n",
    "#### 'eggs' is a valid variable while '100' is not valid because a variable name can start with a letter but a variable name cannot start with a digit"
   ]
  },
  {
   "cell_type": "code",
   "execution_count": null,
   "metadata": {},
   "outputs": [],
   "source": []
  },
  {
   "cell_type": "markdown",
   "metadata": {},
   "source": [
    "#### 9. What three functions can be used to get the integer, floating-point number, or string version of a value?\n",
    "\n",
    "Ans. \n",
    "\n",
    "#### The three functions that can be used to get the integer, floating-point number, or string version of a value are 'int( )', 'float( )', 'str( )' respectively"
   ]
  },
  {
   "cell_type": "code",
   "execution_count": null,
   "metadata": {},
   "outputs": [],
   "source": []
  },
  {
   "cell_type": "markdown",
   "metadata": {},
   "source": [
    "#### 10. Why does this expression cause an error? How can you fix it?\n",
    "#### 'I have eaten ' + 99 + ' burritos.'\n",
    "\n",
    "Ans.\n",
    "\n",
    "#### 99 is just an integer and cannot be concatenated with strings. Hence 99 should be written in single or double quotes to fix the error"
   ]
  }
 ],
 "metadata": {
  "kernelspec": {
   "display_name": "Python 3",
   "language": "python",
   "name": "python3"
  },
  "language_info": {
   "codemirror_mode": {
    "name": "ipython",
    "version": 3
   },
   "file_extension": ".py",
   "mimetype": "text/x-python",
   "name": "python",
   "nbconvert_exporter": "python",
   "pygments_lexer": "ipython3",
   "version": "3.7.6"
  }
 },
 "nbformat": 4,
 "nbformat_minor": 4
}
